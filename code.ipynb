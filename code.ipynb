{
 "cells": [
  {
   "cell_type": "code",
   "execution_count": 53,
   "metadata": {},
   "outputs": [
    {
     "name": "stdout",
     "output_type": "stream",
     "text": [
      " Hello, Here is a list of novels by Agastha Christie. \n",
      " Use the serial number for further operations.\n",
      " 1. The Mysterious Affair at Styles\n",
      " 2. The Secret Adversary \n",
      " 3. The Murder on the Links \n",
      " 4. The Secret of Chimneys\n",
      " 5. The Mystery of the Blue Train\n",
      " 6. Poirot Investigates\n",
      "Similarity percentage between the two Novels: 75.49786535682397 %\n"
     ]
    }
   ],
   "source": [
    "import nltk\n",
    "from sklearn.feature_extraction.text import TfidfVectorizer\n",
    "from sklearn.metrics.pairwise import cosine_similarity\n",
    "\n",
    "# read the documents\n",
    "#novels of agatha christie\n",
    "doc1 = open('1 The Mysterious Affair at Styles author Agatha Christie.txt').read()\n",
    "doc2 = open('2 The Secret Adversary author Agatha Christie.txt').read()\n",
    "doc3 = open('3 The Murder on the Links author Agatha Christie.txt', encoding = 'utf-8').read()\n",
    "doc4 = open('5 The Secret of Chimneys  author Agatha Christie.txt', encoding = 'utf-8').read()\n",
    "doc5 = open('7 The Mystery of the Blue Train author Agatha Christie.txt', encoding = 'utf-8').read()\n",
    "doc6 = open('8 Poirot Investigates  author Agatha Christie.txt', encoding = 'utf-8').read()\n",
    "#novels of different authors\n",
    "doc7 = open('3 The Maltese Falcon by Dashiell Hammett.txt', encoding = 'utf-8').read()\n",
    "doc8 = open('01. The Last Man author Mary Shelley.txt', encoding = 'utf-8').read()\n",
    "doc9 = open('11. The Cask of Amontillado author Edgar Allan Poe.txt', encoding = 'utf-8').read()\n",
    "with open('15 The Greek interpreter author Arthur Conan Doyle.txt', 'r', encoding='utf-8') as f:\n",
    "    doc10 = f.read()\n",
    "with open('5 Crime and Punishment author Fyodor Dostoevsky.txt', 'r', encoding='utf-8') as f:\n",
    "    doc11 = f.read()\n",
    "with open('14 The Innocence of Father Brown author G. K. Chesterton.txt', 'r', encoding='utf-8') as f:\n",
    "    doc12 = f.read()\n",
    "\n",
    "\n",
    "\n",
    "#printing the names of novels\n",
    "print(\" Hello, Here is a list of novels by Agastha Christie. \\n Use the serial number for further operations.\")\n",
    "print(\" 1. The Mysterious Affair at Styles\")\n",
    "print(\" 2. The Secret Adversary \")\n",
    "print(\" 3. The Murder on the Links \")\n",
    "print(\" 4. The Secret of Chimneys\")\n",
    "print(\" 5. The Mystery of the Blue Train\")\n",
    "print(\" 6. Poirot Investigates\")\n",
    "\n",
    "# tokenize and preprocess the documents\n",
    "stop_words = set(nltk.corpus.stopwords.words('english'))\n",
    "vectorizer = TfidfVectorizer(stop_words=stop_words)\n",
    "doc1_vec = vectorizer.fit_transform([doc1])\n",
    "doc2_vec = vectorizer.transform([doc2])\n",
    "doc3_vec = vectorizer.transform([doc3])\n",
    "doc4_vec = vectorizer.transform([doc4])\n",
    "doc5_vec = vectorizer.transform([doc5])\n",
    "doc6_vec = vectorizer.transform([doc6])\n",
    "doc7_vec = vectorizer.transform([doc7])\n",
    "doc8_vec = vectorizer.transform([doc8])\n",
    "doc9_vec = vectorizer.transform([doc9])\n",
    "doc10_vec = vectorizer.transform([doc10])\n",
    "doc11_vec = vectorizer.transform([doc11])\n",
    "doc12_vec = vectorizer.transform([doc12])\n",
    "\n",
    "    \n",
    "#calculate the cosine similarity between the two documents\n",
    "similarity = cosine_similarity(doc11_vec, doc12_vec)\n",
    "# print the similarity percentage\n",
    "print(\"Similarity percentage between the two Novels:\", similarity[0][0] * 100, \"%\")\n",
    "    \n"
   ]
  },
  {
   "cell_type": "code",
   "execution_count": null,
   "metadata": {},
   "outputs": [],
   "source": []
  },
  {
   "cell_type": "code",
   "execution_count": 54,
   "metadata": {},
   "outputs": [
    {
     "ename": "UnicodeDecodeError",
     "evalue": "'charmap' codec can't decode byte 0x9d in position 85: character maps to <undefined>",
     "output_type": "error",
     "traceback": [
      "\u001b[1;31m---------------------------------------------------------------------------\u001b[0m",
      "\u001b[1;31mUnicodeDecodeError\u001b[0m                        Traceback (most recent call last)",
      "\u001b[1;32md:\\SemVI\\rd-project\\code.ipynb Cell 3\u001b[0m in \u001b[0;36m<module>\u001b[1;34m\u001b[0m\n\u001b[0;32m     <a href='vscode-notebook-cell:/d%3A/SemVI/rd-project/code.ipynb#W2sZmlsZQ%3D%3D?line=10'>11</a>\u001b[0m doc6 \u001b[39m=\u001b[39m \u001b[39mopen\u001b[39m(\u001b[39m'\u001b[39m\u001b[39m8 Poirot Investigates  author Agatha Christie.txt\u001b[39m\u001b[39m'\u001b[39m, encoding \u001b[39m=\u001b[39m \u001b[39m'\u001b[39m\u001b[39mutf-8\u001b[39m\u001b[39m'\u001b[39m)\u001b[39m.\u001b[39mread()\n\u001b[0;32m     <a href='vscode-notebook-cell:/d%3A/SemVI/rd-project/code.ipynb#W2sZmlsZQ%3D%3D?line=11'>12</a>\u001b[0m doc7 \u001b[39m=\u001b[39m \u001b[39mopen\u001b[39m(\u001b[39m'\u001b[39m\u001b[39msample1.txt\u001b[39m\u001b[39m'\u001b[39m)\u001b[39m.\u001b[39mread()\n\u001b[1;32m---> <a href='vscode-notebook-cell:/d%3A/SemVI/rd-project/code.ipynb#W2sZmlsZQ%3D%3D?line=12'>13</a>\u001b[0m doc8 \u001b[39m=\u001b[39m \u001b[39mopen\u001b[39;49m(\u001b[39m'\u001b[39;49m\u001b[39msample2.txt\u001b[39;49m\u001b[39m'\u001b[39;49m)\u001b[39m.\u001b[39;49mread()\n\u001b[0;32m     <a href='vscode-notebook-cell:/d%3A/SemVI/rd-project/code.ipynb#W2sZmlsZQ%3D%3D?line=14'>15</a>\u001b[0m \u001b[39m#printing the names of novels\u001b[39;00m\n\u001b[0;32m     <a href='vscode-notebook-cell:/d%3A/SemVI/rd-project/code.ipynb#W2sZmlsZQ%3D%3D?line=15'>16</a>\u001b[0m \u001b[39mprint\u001b[39m(\u001b[39m\"\u001b[39m\u001b[39m Hello, Here is a list of novels by Agastha Christie. \u001b[39m\u001b[39m\\n\u001b[39;00m\u001b[39m Use the serial number for further operations.\u001b[39m\u001b[39m\"\u001b[39m)\n",
      "File \u001b[1;32mc:\\Users\\adity\\AppData\\Local\\Programs\\Python\\Python310\\lib\\encodings\\cp1252.py:23\u001b[0m, in \u001b[0;36mIncrementalDecoder.decode\u001b[1;34m(self, input, final)\u001b[0m\n\u001b[0;32m     22\u001b[0m \u001b[39mdef\u001b[39;00m \u001b[39mdecode\u001b[39m(\u001b[39mself\u001b[39m, \u001b[39minput\u001b[39m, final\u001b[39m=\u001b[39m\u001b[39mFalse\u001b[39;00m):\n\u001b[1;32m---> 23\u001b[0m     \u001b[39mreturn\u001b[39;00m codecs\u001b[39m.\u001b[39;49mcharmap_decode(\u001b[39minput\u001b[39;49m,\u001b[39mself\u001b[39;49m\u001b[39m.\u001b[39;49merrors,decoding_table)[\u001b[39m0\u001b[39m]\n",
      "\u001b[1;31mUnicodeDecodeError\u001b[0m: 'charmap' codec can't decode byte 0x9d in position 85: character maps to <undefined>"
     ]
    }
   ],
   "source": [
    "import nltk\n",
    "from sklearn.feature_extraction.text import TfidfVectorizer\n",
    "from sklearn.metrics.pairwise import cosine_similarity\n",
    "\n",
    "# read the documents\n",
    "doc1 = open('1 The Mysterious Affair at Styles author Agatha Christie.txt').read()\n",
    "doc2 = open('2 The Secret Adversary author Agatha Christie.txt').read()\n",
    "doc3 = open('3 The Murder on the Links author Agatha Christie.txt', encoding = 'utf-8').read()\n",
    "doc4 = open('5 The Secret of Chimneys  author Agatha Christie.txt', encoding = 'utf-8').read()\n",
    "doc5 = open('7 The Mystery of the Blue Train author Agatha Christie.txt', encoding = 'utf-8').read()\n",
    "doc6 = open('8 Poirot Investigates  author Agatha Christie.txt', encoding = 'utf-8').read()\n",
    "doc7 = open('sample1.txt').read()\n",
    "doc8 = open('sample2.txt').read()\n",
    "\n",
    "#printing the names of novels\n",
    "print(\" Hello, Here is a list of novels by Agastha Christie. \\n Use the serial number for further operations.\")\n",
    "print(\" 1. The Mysterious Affair at Styles\")\n",
    "print(\" 2. The Secret Adversary \")\n",
    "print(\" 3. The Murder on the Links \")\n",
    "print(\" 4. The Secret of Chimneys\")\n",
    "print(\" 5. The Mystery of the Blue Train\")\n",
    "print(\" 6. Poirot Investigates\")\n",
    "\n",
    "# tokenize and preprocess the documents\n",
    "stop_words = set(nltk.corpus.stopwords.words('english'))\n",
    "vectorizer = TfidfVectorizer(stop_words=stop_words)\n",
    "doc1_vec = vectorizer.fit_transform([doc1])\n",
    "doc2_vec = vectorizer.transform([doc2])\n",
    "doc3_vec = vectorizer.transform([doc3])\n",
    "doc4_vec = vectorizer.transform([doc4])\n",
    "doc5_vec = vectorizer.transform([doc5])\n",
    "doc6_vec = vectorizer.transform([doc6])\n",
    "doc7_vec = vectorizer.transform([doc7])\n",
    "doc8_vec = vectorizer.transform([doc8])\n",
    "\n",
    "    \n",
    "#calculate the cosine similarity between the two documents\n",
    "similarity = cosine_similarity(doc7_vec, doc8_vec)\n",
    "# print the similarity percentage\n",
    "print(\"Similarity percentage between the two Novels:\", similarity[0][0] * 100, \"%\")\n",
    "    \n"
   ]
  },
  {
   "cell_type": "code",
   "execution_count": null,
   "metadata": {},
   "outputs": [],
   "source": []
  }
 ],
 "metadata": {
  "kernelspec": {
   "display_name": "Python 3",
   "language": "python",
   "name": "python3"
  },
  "language_info": {
   "codemirror_mode": {
    "name": "ipython",
    "version": 3
   },
   "file_extension": ".py",
   "mimetype": "text/x-python",
   "name": "python",
   "nbconvert_exporter": "python",
   "pygments_lexer": "ipython3",
   "version": "3.10.0"
  },
  "orig_nbformat": 4
 },
 "nbformat": 4,
 "nbformat_minor": 2
}
