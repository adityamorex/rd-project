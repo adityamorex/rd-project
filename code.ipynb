{
 "cells": [
  {
   "cell_type": "code",
   "execution_count": 10,
   "metadata": {},
   "outputs": [
    {
     "name": "stdout",
     "output_type": "stream",
     "text": [
      " Hello, Here is a list of novels by Agastha Christie. \n",
      " Use the serial number for further operations.\n",
      " 1. The Mysterious Affair at Styles\n",
      " 2. The Secret Adversary \n",
      " 3. The Murder on the Links \n",
      " 4. The Secret of Chimneys\n",
      " 5. The Mystery of the Blue Train\n",
      " 6. Poirot Investigates\n",
      "Similarity percentage between the two Novels: 100.00000000000023 %\n"
     ]
    }
   ],
   "source": [
    "import nltk\n",
    "from sklearn.feature_extraction.text import TfidfVectorizer\n",
    "from sklearn.metrics.pairwise import cosine_similarity\n",
    "\n",
    "# read the documents\n",
    "doc1 = open('1 The Mysterious Affair at Styles author Agatha Christie.txt').read()\n",
    "doc2 = open('2 The Secret Adversary author Agatha Christie.txt').read()\n",
    "doc3 = open('3 The Murder on the Links author Agatha Christie.txt', encoding = 'utf-8').read()\n",
    "doc4 = open('5 The Secret of Chimneys  author Agatha Christie.txt', encoding = 'utf-8').read()\n",
    "doc5 = open('7 The Mystery of the Blue Train author Agatha Christie.txt', encoding = 'utf-8').read()\n",
    "doc6 = open('8 Poirot Investigates  author Agatha Christie.txt', encoding = 'utf-8').read()\n",
    "\n",
    "\n",
    "#printing the names of novels\n",
    "print(\" Hello, Here is a list of novels by Agastha Christie. \\n Use the serial number for further operations.\")\n",
    "print(\" 1. The Mysterious Affair at Styles\")\n",
    "print(\" 2. The Secret Adversary \")\n",
    "print(\" 3. The Murder on the Links \")\n",
    "print(\" 4. The Secret of Chimneys\")\n",
    "print(\" 5. The Mystery of the Blue Train\")\n",
    "print(\" 6. Poirot Investigates\")\n",
    "\n",
    "# tokenize and preprocess the documents\n",
    "stop_words = set(nltk.corpus.stopwords.words('english'))\n",
    "vectorizer = TfidfVectorizer(stop_words=stop_words)\n",
    "doc1_vec = vectorizer.fit_transform([doc1])\n",
    "doc2_vec = vectorizer.transform([doc2])\n",
    "doc3_vec = vectorizer.transform([doc3])\n",
    "doc4_vec = vectorizer.transform([doc4])\n",
    "doc5_vec = vectorizer.transform([doc5])\n",
    "doc6_vec = vectorizer.transform([doc6])\n",
    "\n",
    "    \n",
    "#calculate the cosine similarity between the two documents\n",
    "similarity = cosine_similarity(doc5_vec, doc5_vec)\n",
    "# print the similarity percentage\n",
    "print(\"Similarity percentage between the two Novels:\", similarity[0][0] * 100, \"%\")\n",
    "    \n"
   ]
  },
  {
   "cell_type": "code",
   "execution_count": null,
   "metadata": {},
   "outputs": [],
   "source": []
  },
  {
   "cell_type": "code",
   "execution_count": null,
   "metadata": {},
   "outputs": [],
   "source": []
  }
 ],
 "metadata": {
  "kernelspec": {
   "display_name": "Python 3",
   "language": "python",
   "name": "python3"
  },
  "language_info": {
   "codemirror_mode": {
    "name": "ipython",
    "version": 3
   },
   "file_extension": ".py",
   "mimetype": "text/x-python",
   "name": "python",
   "nbconvert_exporter": "python",
   "pygments_lexer": "ipython3",
   "version": "3.10.0"
  },
  "orig_nbformat": 4
 },
 "nbformat": 4,
 "nbformat_minor": 2
}
